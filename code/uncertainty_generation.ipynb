{
 "cells": [
  {
   "cell_type": "code",
   "execution_count": 10,
   "id": "64a37f0d",
   "metadata": {},
   "outputs": [],
   "source": [
    "import pandas as pd; import numpy as np;\n",
    "import os\n",
    "import csv\n",
    "\n",
    "folder_path = \"C:\\\\Users\\\\xuxuk\\\\Desktop\\\\xxk\\\\DOE\\\\code\\\\traindata\\\\final\\\\train_0\"\n",
    "times = 10\n",
    "folder = \"C:\\\\Users\\\\xuxuk\\\\Desktop\\\\xxk\\\\DOE\\\\code\\\\traindata\\\\final\\\\noise\"\n",
    "noise_ratio_list = [0.01]\n",
    "seeds=[4,14,24,34,44,54,64,74,84,94]"
   ]
  },
  {
   "cell_type": "code",
   "execution_count": 11,
   "id": "f5858e92",
   "metadata": {},
   "outputs": [],
   "source": [
    "import csv\n",
    "\n",
    "def get_csv_row_count(filename):\n",
    "    with open(filename, 'r') as file:\n",
    "        reader = csv.reader(file)\n",
    "        row_count = sum(1 for row in reader) -1        \n",
    "    return row_count"
   ]
  },
  {
   "cell_type": "code",
   "execution_count": 12,
   "id": "70ba409f",
   "metadata": {},
   "outputs": [],
   "source": [
    "for noise_ratio in noise_ratio_list:\n",
    "    run = 0\n",
    "    folder_name = \"train_\"+str(noise_ratio)\n",
    "    new_folder = os.path.join(folder, folder_name)\n",
    "    os.mkdir(new_folder)\n",
    "    for t in range(times):\n",
    "        run = run +1\n",
    "        new_folder_name = \"train_\"+str(noise_ratio)+\"_\"+str(run)\n",
    "        new_folder_path = os.path.join(new_folder, new_folder_name)\n",
    "        os.mkdir(new_folder_path)\n",
    "        for filename in os.listdir(folder_path):\n",
    "            if filename.endswith('.csv'):\n",
    "                file_path = os.path.join(folder_path, filename)\n",
    "                new_file_path = os.path.join(new_folder_path, filename)\n",
    "\n",
    "                valuerange=347.53-0.745\n",
    "\n",
    "                n=get_csv_row_count(file_path)\n",
    "\n",
    "                noise_dis= valuerange*np.random.random(size=n)*noise_ratio\n",
    "                direction=np.random.randint(0,2,n)\n",
    "\n",
    "                with open(file_path, 'r') as file:\n",
    "                    with open(new_file_path, 'w') as new_file:\n",
    "                        new_file.write(\"Ym, Pr, L, W, F1, F2, F3, F4, Displacement\\n\")\n",
    "                        df_train = pd.read_csv(file)\n",
    "                        for i in range(direction.shape[0]):\n",
    "                            if direction[i]==0:\n",
    "                                d_noise = (df_train[\" Displacement\"][i] - noise_dis[i])\n",
    "                            else:\n",
    "                                d_noise = (df_train[\" Displacement\"][i] + noise_dis[i])\n",
    "\n",
    "                            new_file.write(str(df_train[\"Ym\"][i]) + \",\" + str(df_train[\" Pr\"][i]) + \",\" + str(df_train[\" L\"][i]) + \",\" + str(df_train[\" W\"][i]) + \",\" + str(df_train[\" F1\"][i]) + \",\" + str(df_train[\" F2\"][i]) + \",\" + str(df_train[\" F3\"][i]) + \",\" + str(df_train[\" F4\"][i]) + \",\" + str(d_noise) + \"\\n\")\n",
    "\n"
   ]
  },
  {
   "cell_type": "code",
   "execution_count": null,
   "id": "6c31cff1",
   "metadata": {},
   "outputs": [],
   "source": []
  }
 ],
 "metadata": {
  "kernelspec": {
   "display_name": "Python 3 (ipykernel)",
   "language": "python",
   "name": "python3"
  },
  "language_info": {
   "codemirror_mode": {
    "name": "ipython",
    "version": 3
   },
   "file_extension": ".py",
   "mimetype": "text/x-python",
   "name": "python",
   "nbconvert_exporter": "python",
   "pygments_lexer": "ipython3",
   "version": "3.8.10"
  }
 },
 "nbformat": 4,
 "nbformat_minor": 5
}
