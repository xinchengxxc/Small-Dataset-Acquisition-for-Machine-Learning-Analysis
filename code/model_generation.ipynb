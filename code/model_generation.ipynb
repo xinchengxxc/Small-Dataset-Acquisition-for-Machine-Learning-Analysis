{
 "cells": [
  {
   "cell_type": "code",
   "execution_count": 51,
   "id": "a1592053",
   "metadata": {},
   "outputs": [],
   "source": [
    "from pprint import pprint\n",
    "import pandas as pd\n",
    "import matplotlib.pyplot as plt\n",
    "import sklearn.datasets\n",
    "import sklearn.metrics\n",
    "import autosklearn.regression\n",
    "import autosklearn.classification\n",
    "\n",
    "train_name = 'GPY_with_100LH_20IT.csv'\n",
    "model_name = 'GPY_with_100LH_20IT'"
   ]
  },
  {
   "cell_type": "markdown",
   "id": "545c8425",
   "metadata": {},
   "source": [
    "# auto sklearn regression\n"
   ]
  },
  {
   "cell_type": "code",
   "execution_count": 52,
   "id": "3595dda0",
   "metadata": {},
   "outputs": [
    {
     "name": "stdout",
     "output_type": "stream",
     "text": [
      "(120, 9) (2500, 9)\n"
     ]
    },
    {
     "data": {
      "text/html": [
       "<div>\n",
       "<style scoped>\n",
       "    .dataframe tbody tr th:only-of-type {\n",
       "        vertical-align: middle;\n",
       "    }\n",
       "\n",
       "    .dataframe tbody tr th {\n",
       "        vertical-align: top;\n",
       "    }\n",
       "\n",
       "    .dataframe thead th {\n",
       "        text-align: right;\n",
       "    }\n",
       "</style>\n",
       "<table border=\"1\" class=\"dataframe\">\n",
       "  <thead>\n",
       "    <tr style=\"text-align: right;\">\n",
       "      <th></th>\n",
       "      <th>Ym</th>\n",
       "      <th>Pr</th>\n",
       "      <th>L</th>\n",
       "      <th>W</th>\n",
       "      <th>F1</th>\n",
       "      <th>F2</th>\n",
       "      <th>F3</th>\n",
       "      <th>F4</th>\n",
       "      <th>Displacement</th>\n",
       "    </tr>\n",
       "  </thead>\n",
       "  <tbody>\n",
       "    <tr>\n",
       "      <th>0</th>\n",
       "      <td>393846.956325</td>\n",
       "      <td>0.283438</td>\n",
       "      <td>9785.064860</td>\n",
       "      <td>1989.719699</td>\n",
       "      <td>4.550465e+06</td>\n",
       "      <td>2.048921e+06</td>\n",
       "      <td>6.508967e+06</td>\n",
       "      <td>1.520737e+06</td>\n",
       "      <td>2.856307</td>\n",
       "    </tr>\n",
       "    <tr>\n",
       "      <th>1</th>\n",
       "      <td>258708.164914</td>\n",
       "      <td>0.278237</td>\n",
       "      <td>8689.675029</td>\n",
       "      <td>1916.843283</td>\n",
       "      <td>7.420939e+06</td>\n",
       "      <td>4.025130e+06</td>\n",
       "      <td>8.048466e+06</td>\n",
       "      <td>4.781460e+06</td>\n",
       "      <td>6.239527</td>\n",
       "    </tr>\n",
       "    <tr>\n",
       "      <th>2</th>\n",
       "      <td>367528.309421</td>\n",
       "      <td>0.448074</td>\n",
       "      <td>8656.216279</td>\n",
       "      <td>1824.658729</td>\n",
       "      <td>4.308446e+06</td>\n",
       "      <td>2.250449e+06</td>\n",
       "      <td>1.192787e+06</td>\n",
       "      <td>2.206634e+06</td>\n",
       "      <td>3.185127</td>\n",
       "    </tr>\n",
       "    <tr>\n",
       "      <th>3</th>\n",
       "      <td>280617.324465</td>\n",
       "      <td>0.116326</td>\n",
       "      <td>8273.875980</td>\n",
       "      <td>1513.627456</td>\n",
       "      <td>3.886773e+06</td>\n",
       "      <td>2.507154e+06</td>\n",
       "      <td>6.123143e+06</td>\n",
       "      <td>4.055736e+06</td>\n",
       "      <td>6.806090</td>\n",
       "    </tr>\n",
       "    <tr>\n",
       "      <th>4</th>\n",
       "      <td>144771.007364</td>\n",
       "      <td>0.352229</td>\n",
       "      <td>9322.079241</td>\n",
       "      <td>1085.685535</td>\n",
       "      <td>5.280718e+06</td>\n",
       "      <td>2.937048e+06</td>\n",
       "      <td>4.386006e+06</td>\n",
       "      <td>2.791044e+06</td>\n",
       "      <td>90.872201</td>\n",
       "    </tr>\n",
       "  </tbody>\n",
       "</table>\n",
       "</div>"
      ],
      "text/plain": [
       "              Ym        Pr            L            W            F1  \\\n",
       "0  393846.956325  0.283438  9785.064860  1989.719699  4.550465e+06   \n",
       "1  258708.164914  0.278237  8689.675029  1916.843283  7.420939e+06   \n",
       "2  367528.309421  0.448074  8656.216279  1824.658729  4.308446e+06   \n",
       "3  280617.324465  0.116326  8273.875980  1513.627456  3.886773e+06   \n",
       "4  144771.007364  0.352229  9322.079241  1085.685535  5.280718e+06   \n",
       "\n",
       "             F2            F3            F4   Displacement  \n",
       "0  2.048921e+06  6.508967e+06  1.520737e+06       2.856307  \n",
       "1  4.025130e+06  8.048466e+06  4.781460e+06       6.239527  \n",
       "2  2.250449e+06  1.192787e+06  2.206634e+06       3.185127  \n",
       "3  2.507154e+06  6.123143e+06  4.055736e+06       6.806090  \n",
       "4  2.937048e+06  4.386006e+06  2.791044e+06      90.872201  "
      ]
     },
     "execution_count": 52,
     "metadata": {},
     "output_type": "execute_result"
    }
   ],
   "source": [
    "data_train=pd.read_csv(train_name)  \n",
    "\n",
    "data_test=pd.read_csv(\"testdata_2500.csv\")\n",
    "print(data_train.shape,data_test.shape)\n",
    "data_train.head(5)"
   ]
  },
  {
   "cell_type": "code",
   "execution_count": 53,
   "id": "b8a5c3c8",
   "metadata": {},
   "outputs": [
    {
     "data": {
      "text/plain": [
       "(                 Ym        Pr            L            W            F1  \\\n",
       " 0      94395.485829  0.408768  8499.583680  1608.727367  1.029454e+06   \n",
       " 1      84278.878309  0.231091  8788.419289  1175.258742  5.345039e+06   \n",
       " 2     149552.529744  0.437990  8189.447620  1794.238778  4.589577e+06   \n",
       " 3     190093.263121  0.295797  8212.301835  1936.807105  7.972106e+06   \n",
       " 4     104785.791189  0.159446  9576.520014  1241.439274  2.022164e+06   \n",
       " ...             ...       ...          ...          ...           ...   \n",
       " 2495  380701.056597  0.381405  8822.413422  1342.425112  5.613384e+06   \n",
       " 2496  454265.280975  0.113959  8503.386193  1875.658788  9.362209e+06   \n",
       " 2497  132188.668823  0.108465  9593.618716  1540.149936  4.534234e+06   \n",
       " 2498   69032.490830  0.326947  9684.017646  1574.082671  3.061684e+06   \n",
       " 2499  137123.343012  0.343410  8457.361162  1033.939568  1.066780e+06   \n",
       " \n",
       "                 F2            F3            F4  \n",
       " 0     2.754024e+06  6.663235e+06  3.989766e+06  \n",
       " 1     1.678818e+06  6.151883e+06  4.747893e+06  \n",
       " 2     3.763272e+06  9.380382e+06  1.487584e+06  \n",
       " 3     1.071631e+06  7.195339e+06  4.451673e+06  \n",
       " 4     2.954336e+06  1.567812e+06  3.178973e+06  \n",
       " ...            ...           ...           ...  \n",
       " 2495  2.258769e+06  7.376665e+06  2.669177e+06  \n",
       " 2496  1.501218e+06  7.387969e+06  1.606316e+06  \n",
       " 2497  4.142731e+06  6.607338e+06  4.198501e+06  \n",
       " 2498  2.592674e+06  9.030633e+06  1.210281e+06  \n",
       " 2499  2.023654e+06  4.381772e+06  1.274899e+06  \n",
       " \n",
       " [2500 rows x 8 columns],\n",
       " 0        8.080981\n",
       " 1       93.177891\n",
       " 2        6.580764\n",
       " 3        6.948870\n",
       " 4       58.678492\n",
       "           ...    \n",
       " 2495    12.275173\n",
       " 2496     4.295764\n",
       " 2497    27.244377\n",
       " 2498    26.678144\n",
       " 2499    20.754301\n",
       " Name:  Displacement, Length: 2500, dtype: float64)"
      ]
     },
     "execution_count": 53,
     "metadata": {},
     "output_type": "execute_result"
    }
   ],
   "source": [
    "X_train=data_train.drop(columns=[\" Displacement\"])\n",
    "y_train=data_train[\" Displacement\"]\n",
    "\n",
    "X_test=data_test.drop(columns=[\" Displacement\"])\n",
    "y_test=data_test[\" Displacement\"]\n",
    "X_test,y_test"
   ]
  },
  {
   "cell_type": "code",
   "execution_count": 54,
   "id": "e144a725",
   "metadata": {},
   "outputs": [
    {
     "data": {
      "text/plain": [
       "AutoSklearnRegressor(ensemble_class=<class 'autosklearn.ensembles.ensemble_selection.EnsembleSelection'>,\n",
       "                     n_jobs=4, per_run_time_limit=15, resampling_strategy='cv',\n",
       "                     resampling_strategy_arguments={'folds': 5},\n",
       "                     time_left_for_this_task=150,\n",
       "                     tmp_folder='/tmp/autosklearn_regression_example_tmp2')"
      ]
     },
     "execution_count": 54,
     "metadata": {},
     "output_type": "execute_result"
    }
   ],
   "source": [
    "automl = autosklearn.regression.AutoSklearnRegressor(\n",
    "    time_left_for_this_task=150,\n",
    "    per_run_time_limit=15,\n",
    "    initial_configurations_via_metalearning=25,\n",
    "    memory_limit=3072,\n",
    "    resampling_strategy='cv',\n",
    "    resampling_strategy_arguments={'folds':5},\n",
    "    tmp_folder=\"/tmp/autosklearn_regression_example_tmp2\",\n",
    "    n_jobs=4\n",
    ")\n",
    "automl.fit(X_train, y_train, dataset_name=model_name) "
   ]
  },
  {
   "cell_type": "code",
   "execution_count": 55,
   "id": "8cd14340",
   "metadata": {
    "scrolled": true
   },
   "outputs": [
    {
     "name": "stdout",
     "output_type": "stream",
     "text": [
      "auto-sklearn results:\n",
      "  Dataset name: GPY_with_100LH_20IT\n",
      "  Metric: r2\n",
      "  Best validation score: 0.652211\n",
      "  Number of target algorithm runs: 59\n",
      "  Number of successful target algorithm runs: 51\n",
      "  Number of crashed target algorithm runs: 6\n",
      "  Number of target algorithms that exceeded the time limit: 2\n",
      "  Number of target algorithms that exceeded the memory limit: 0\n",
      "\n"
     ]
    }
   ],
   "source": [
    "# check the general information of the auto-sklearn setting\n",
    "print(automl.sprint_statistics())"
   ]
  },
  {
   "cell_type": "code",
   "execution_count": 56,
   "id": "9fee57c8",
   "metadata": {
    "scrolled": true
   },
   "outputs": [
    {
     "name": "stdout",
     "output_type": "stream",
     "text": [
      "          rank  ensemble_weight              type      cost   duration  \\\n",
      "model_id                                                                 \n",
      "45           1             0.86               mlp  0.370901   2.423119   \n",
      "5            2             0.14  gaussian_process  1.083231  12.891873   \n",
      "\n",
      "          config_id  train_loss  seed    start_time      end_time  budget  \\\n",
      "model_id                                                                    \n",
      "45               44    0.048093     0  1.686751e+09  1.686751e+09     0.0   \n",
      "5                 4    0.006793     0  1.686750e+09  1.686750e+09     0.0   \n",
      "\n",
      "                      status data_preprocessors      feature_preprocessors  \\\n",
      "model_id                                                                     \n",
      "45        StatusType.SUCCESS                 []  [select_rates_regression]   \n",
      "5         StatusType.SUCCESS                 []               [polynomial]   \n",
      "\n",
      "         balancing_strategy           config_origin  \n",
      "model_id                                             \n",
      "45                     None  Random Search (sorted)  \n",
      "5                      None          Initial design  \n"
     ]
    }
   ],
   "source": [
    "print(automl.leaderboard(detailed=True))"
   ]
  },
  {
   "cell_type": "code",
   "execution_count": 57,
   "id": "f39c1ccb",
   "metadata": {},
   "outputs": [],
   "source": [
    "# save the model \n",
    "import pickle\n",
    "\n",
    "filename = 'automl_model_{}.sav'.format(model_name) \n",
    "pickle.dump(automl, open(filename, 'wb'))"
   ]
  },
  {
   "cell_type": "markdown",
   "id": "20ba8481",
   "metadata": {},
   "source": [
    "## Test the model"
   ]
  },
  {
   "cell_type": "code",
   "execution_count": 58,
   "id": "82583fef",
   "metadata": {},
   "outputs": [
    {
     "name": "stdout",
     "output_type": "stream",
     "text": [
      "0.9004851807730556\n"
     ]
    }
   ],
   "source": [
    "# reload the model\n",
    "import pickle\n",
    "filename = filename\n",
    "\n",
    "loaded_model = pickle.load(open(filename, 'rb'))\n",
    "result = loaded_model.score(X_test, y_test)\n",
    "print(result)"
   ]
  },
  {
   "cell_type": "code",
   "execution_count": 59,
   "id": "dafa2571",
   "metadata": {},
   "outputs": [
    {
     "name": "stdout",
     "output_type": "stream",
     "text": [
      "{5: {'model_id': 5, 'rank': 1, 'cost': 1.0832308022110435, 'ensemble_weight': 0.14, 'voting_model': VotingRegressor(estimators=None), 'estimators': [{'data_preprocessor': <autosklearn.pipeline.components.data_preprocessing.DataPreprocessorChoice object at 0x7f3fcf520700>, 'feature_preprocessor': <autosklearn.pipeline.components.feature_preprocessing.FeaturePreprocessorChoice object at 0x7f402342edd0>, 'regressor': <autosklearn.pipeline.components.regression.RegressorChoice object at 0x7f402342c730>, 'sklearn_regressor': GaussianProcessRegressor(alpha=0.035440248140559884,\n",
      "                         kernel=RBF(length_scale=[1, 1, 1, 1, 1, 1, 1, 1, 1, 1, 1, 1, 1, 1, 1, 1, 1, 1, 1, 1, 1, 1, 1, 1, 1, 1, 1, 1, 1, 1, 1, 1, 1, 1, 1, 1, 1, 1, 1, 1, 1, 1, 1, 1]),\n",
      "                         n_restarts_optimizer=10, normalize_y=True,\n",
      "                         random_state=1)}, {'data_preprocessor': <autosklearn.pipeline.components.data_preprocessing.DataPreprocessorChoice object at 0x7f3fcf4c6d40>, 'feature_preprocessor': <autosklearn.pipeline.components.feature_preprocessing.FeaturePreprocessorChoice object at 0x7f40301429b0>, 'regressor': <autosklearn.pipeline.components.regression.RegressorChoice object at 0x7f4030141a20>, 'sklearn_regressor': GaussianProcessRegressor(alpha=0.035440248140559884,\n",
      "                         kernel=RBF(length_scale=[1, 1, 1, 1, 1, 1, 1, 1, 1, 1, 1, 1, 1, 1, 1, 1, 1, 1, 1, 1, 1, 1, 1, 1, 1, 1, 1, 1, 1, 1, 1, 1, 1, 1, 1, 1, 1, 1, 1, 1, 1, 1, 1, 1]),\n",
      "                         n_restarts_optimizer=10, normalize_y=True,\n",
      "                         random_state=1)}, {'data_preprocessor': <autosklearn.pipeline.components.data_preprocessing.DataPreprocessorChoice object at 0x7f3fcfbdee00>, 'feature_preprocessor': <autosklearn.pipeline.components.feature_preprocessing.FeaturePreprocessorChoice object at 0x7f3fcfbdd1b0>, 'regressor': <autosklearn.pipeline.components.regression.RegressorChoice object at 0x7f3fcfbde680>, 'sklearn_regressor': GaussianProcessRegressor(alpha=0.035440248140559884,\n",
      "                         kernel=RBF(length_scale=[1, 1, 1, 1, 1, 1, 1, 1, 1, 1, 1, 1, 1, 1, 1, 1, 1, 1, 1, 1, 1, 1, 1, 1, 1, 1, 1, 1, 1, 1, 1, 1, 1, 1, 1, 1, 1, 1, 1, 1, 1, 1, 1, 1]),\n",
      "                         n_restarts_optimizer=10, normalize_y=True,\n",
      "                         random_state=1)}, {'data_preprocessor': <autosklearn.pipeline.components.data_preprocessing.DataPreprocessorChoice object at 0x7f4023781960>, 'feature_preprocessor': <autosklearn.pipeline.components.feature_preprocessing.FeaturePreprocessorChoice object at 0x7f4023ef0220>, 'regressor': <autosklearn.pipeline.components.regression.RegressorChoice object at 0x7f4023ef2a70>, 'sklearn_regressor': GaussianProcessRegressor(alpha=0.035440248140559884,\n",
      "                         kernel=RBF(length_scale=[1, 1, 1, 1, 1, 1, 1, 1, 1, 1, 1, 1, 1, 1, 1, 1, 1, 1, 1, 1, 1, 1, 1, 1, 1, 1, 1, 1, 1, 1, 1, 1, 1, 1, 1, 1, 1, 1, 1, 1, 1, 1, 1, 1]),\n",
      "                         n_restarts_optimizer=10, normalize_y=True,\n",
      "                         random_state=1)}, {'data_preprocessor': <autosklearn.pipeline.components.data_preprocessing.DataPreprocessorChoice object at 0x7f3fcff74670>, 'feature_preprocessor': <autosklearn.pipeline.components.feature_preprocessing.FeaturePreprocessorChoice object at 0x7f3fcff77070>, 'regressor': <autosklearn.pipeline.components.regression.RegressorChoice object at 0x7f3fcff77f70>, 'sklearn_regressor': GaussianProcessRegressor(alpha=0.035440248140559884,\n",
      "                         kernel=RBF(length_scale=[1, 1, 1, 1, 1, 1, 1, 1, 1, 1, 1, 1, 1, 1, 1, 1, 1, 1, 1, 1, 1, 1, 1, 1, 1, 1, 1, 1, 1, 1, 1, 1, 1, 1, 1, 1, 1, 1, 1, 1, 1, 1, 1, 1]),\n",
      "                         n_restarts_optimizer=10, normalize_y=True,\n",
      "                         random_state=1)}]}, 45: {'model_id': 45, 'rank': 2, 'cost': 0.37090089775242996, 'ensemble_weight': 0.86, 'voting_model': VotingRegressor(estimators=None), 'estimators': [{'data_preprocessor': <autosklearn.pipeline.components.data_preprocessing.DataPreprocessorChoice object at 0x7f4030eb4b80>, 'feature_preprocessor': <autosklearn.pipeline.components.feature_preprocessing.FeaturePreprocessorChoice object at 0x7f40301cbb80>, 'regressor': <autosklearn.pipeline.components.regression.RegressorChoice object at 0x7f40301c9b70>, 'sklearn_regressor': MLPRegressor(alpha=1.97124035611471e-05, beta_1=0.999, beta_2=0.9,\n",
      "             early_stopping=True, hidden_layer_sizes=(33, 33),\n",
      "             learning_rate_init=0.011911479918420417, max_iter=32,\n",
      "             n_iter_no_change=32, random_state=1, verbose=0, warm_start=True)}, {'data_preprocessor': <autosklearn.pipeline.components.data_preprocessing.DataPreprocessorChoice object at 0x7f3fcfbddbd0>, 'feature_preprocessor': <autosklearn.pipeline.components.feature_preprocessing.FeaturePreprocessorChoice object at 0x7f3fcfbde4a0>, 'regressor': <autosklearn.pipeline.components.regression.RegressorChoice object at 0x7f3fcfbdc160>, 'sklearn_regressor': MLPRegressor(alpha=1.97124035611471e-05, beta_1=0.999, beta_2=0.9,\n",
      "             early_stopping=True, hidden_layer_sizes=(33, 33),\n",
      "             learning_rate_init=0.011911479918420417, max_iter=128,\n",
      "             n_iter_no_change=32, random_state=1, verbose=0, warm_start=True)}, {'data_preprocessor': <autosklearn.pipeline.components.data_preprocessing.DataPreprocessorChoice object at 0x7f3fcff769b0>, 'feature_preprocessor': <autosklearn.pipeline.components.feature_preprocessing.FeaturePreprocessorChoice object at 0x7f4023702bc0>, 'regressor': <autosklearn.pipeline.components.regression.RegressorChoice object at 0x7f4023702a10>, 'sklearn_regressor': MLPRegressor(alpha=1.97124035611471e-05, beta_1=0.999, beta_2=0.9,\n",
      "             early_stopping=True, hidden_layer_sizes=(33, 33),\n",
      "             learning_rate_init=0.011911479918420417, max_iter=64,\n",
      "             n_iter_no_change=32, random_state=1, verbose=0, warm_start=True)}, {'data_preprocessor': <autosklearn.pipeline.components.data_preprocessing.DataPreprocessorChoice object at 0x7f3fcef49bd0>, 'feature_preprocessor': <autosklearn.pipeline.components.feature_preprocessing.FeaturePreprocessorChoice object at 0x7f3fcf655420>, 'regressor': <autosklearn.pipeline.components.regression.RegressorChoice object at 0x7f3fcf6572b0>, 'sklearn_regressor': MLPRegressor(alpha=1.97124035611471e-05, beta_1=0.999, beta_2=0.9,\n",
      "             early_stopping=True, hidden_layer_sizes=(33, 33),\n",
      "             learning_rate_init=0.011911479918420417, max_iter=64,\n",
      "             n_iter_no_change=32, random_state=1, verbose=0, warm_start=True)}, {'data_preprocessor': <autosklearn.pipeline.components.data_preprocessing.DataPreprocessorChoice object at 0x7f3fcef61540>, 'feature_preprocessor': <autosklearn.pipeline.components.feature_preprocessing.FeaturePreprocessorChoice object at 0x7f3fcf049ab0>, 'regressor': <autosklearn.pipeline.components.regression.RegressorChoice object at 0x7f3fcf04a800>, 'sklearn_regressor': MLPRegressor(alpha=1.97124035611471e-05, beta_1=0.999, beta_2=0.9,\n",
      "             early_stopping=True, hidden_layer_sizes=(33, 33),\n",
      "             learning_rate_init=0.011911479918420417, max_iter=64,\n",
      "             n_iter_no_change=32, random_state=1, verbose=0, warm_start=True)}]}}\n"
     ]
    }
   ],
   "source": [
    "print(automl.show_models())"
   ]
  },
  {
   "cell_type": "code",
   "execution_count": 60,
   "id": "19bec5fa",
   "metadata": {
    "scrolled": true
   },
   "outputs": [
    {
     "name": "stdout",
     "output_type": "stream",
     "text": [
      "Test MAE: 4.483\n",
      "Train R2 score: 0.9705467097338247\n",
      "Test R2 score: 0.9004851807730556\n"
     ]
    }
   ],
   "source": [
    "# evaluate the best model\n",
    "from sklearn.metrics import mean_absolute_error\n",
    "\n",
    "y_pred = automl.predict(X_test)\n",
    "mae = mean_absolute_error(y_test, y_pred)\n",
    "print(\"Test MAE: %.3f\" % mae)\n",
    "train_predictions = automl.predict(X_train)\n",
    "print(\"Train R2 score:\", sklearn.metrics.r2_score(y_train, train_predictions))\n",
    "test_predictions = automl.predict(X_test)\n",
    "print(\"Test R2 score:\", sklearn.metrics.r2_score(y_test, test_predictions))"
   ]
  },
  {
   "cell_type": "code",
   "execution_count": 11,
   "id": "17cfeaaf",
   "metadata": {
    "scrolled": true
   },
   "outputs": [],
   "source": [
    "# plt.scatter(test_predictions, y_test, label=\"Train samples\", c=\"#d95f02\")\n",
    "# # plt.scatter(test_predictions, y_test, label=\"Test samples\", c=\"#7570b3\")\n",
    "# plt.xlabel(\"Predicted value\")\n",
    "# plt.ylabel(\"True value\")\n",
    "# plt.legend()\n",
    "# plt.plot([50, 350], [50, 350], c=\"k\", zorder=0)\n",
    "# plt.xlim([50, 350])\n",
    "# plt.ylim([50, 350])\n",
    "# plt.tight_layout()\n",
    "# plt.show()"
   ]
  },
  {
   "cell_type": "markdown",
   "id": "5ce5ecd5",
   "metadata": {},
   "source": [
    "automl_model_LH: \n",
    "Test MAE: 4.079\n",
    "Train R2 score: 0.9805968098049971\n",
    "Test R2 score: 0.9078082766355309\n",
    "\n",
    "automl_model_LH_with_320.sav\n",
    "Test MAE: 3.769\n",
    "Train R2 score: 0.9857039960928277\n",
    "Test R2 score: 0.9318146351400987\n",
    "\n",
    "automl_model_LH_with_220.sav\n",
    "Test MAE: 5.810\n",
    "Train R2 score: 0.9027895491232791\n",
    "Test R2 score: 0.9021625496275776\n",
    "\n",
    "automl_model_LH_with_120.sav\n",
    "Test MAE: 4.445\n",
    "Train R2 score: 0.9935270882953583\n",
    "Test R2 score: 0.8207560708756729\n",
    "\n",
    "automl_model_gpy\n",
    "Test MAE: 3.815\n",
    "Train R2 score: 0.9617766630544647\n",
    "Test R2 score: 0.9526885191050858\n",
    "\n",
    "automl_model_GPY_with_100LH_220IT.sav\n",
    "Test MAE: 4.686\n",
    "Train R2 score: 0.9697162292435806\n",
    "Test R2 score: 0.9214437040707228\n",
    "\n",
    "automl_model_GPY_with_100LH_120IT.sav\n",
    "Test MAE: 4.285\n",
    "Train R2 score: 0.9548977936924598\n",
    "Test R2 score: 0.9393131452314745\n",
    "\n",
    "automl_model_GPY_with_100LH_20IT.sav\n",
    "Test MAE: 4.483\n",
    "Train R2 score: 0.9705467097338247\n",
    "Test R2 score: 0.9004851807730556"
   ]
  }
 ],
 "metadata": {
  "kernelspec": {
   "display_name": "Python 3 (ipykernel)",
   "language": "python",
   "name": "python3"
  },
  "language_info": {
   "codemirror_mode": {
    "name": "ipython",
    "version": 3
   },
   "file_extension": ".py",
   "mimetype": "text/x-python",
   "name": "python",
   "nbconvert_exporter": "python",
   "pygments_lexer": "ipython3",
   "version": "3.8.10"
  }
 },
 "nbformat": 4,
 "nbformat_minor": 5
}
